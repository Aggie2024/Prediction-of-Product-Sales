{
  "nbformat": 4,
  "nbformat_minor": 0,
  "metadata": {
    "colab": {
      "provenance": [],
      "authorship_tag": "ABX9TyPN1fPf2/9bRf74j4qUkETR",
      "include_colab_link": true
    },
    "kernelspec": {
      "name": "python3",
      "display_name": "Python 3"
    },
    "language_info": {
      "name": "python"
    }
  },
  "cells": [
    {
      "cell_type": "markdown",
      "metadata": {
        "id": "view-in-github",
        "colab_type": "text"
      },
      "source": [
        "<a href=\"https://colab.research.google.com/github/Aggie2024/Prediction-of-Product-Sales/blob/main/Prediction_of_Product_Sales.ipynb\" target=\"_parent\"><img src=\"https://colab.research.google.com/assets/colab-badge.svg\" alt=\"Open In Colab\"/></a>"
      ]
    },
    {
      "cell_type": "markdown",
      "source": [
        "# Prediction of Product Sales\n",
        "- Author: Agnes Nansubuga"
      ],
      "metadata": {
        "id": "Mccby0D5jmz2"
      }
    },
    {
      "cell_type": "markdown",
      "source": [
        "## Project Overview\n"
      ],
      "metadata": {
        "id": "hbXpbxi-kPV3"
      }
    },
    {
      "cell_type": "markdown",
      "source": [],
      "metadata": {
        "id": "44M0WG49lbWR"
      }
    },
    {
      "cell_type": "markdown",
      "source": [
        "## Load and Inspect Data"
      ],
      "metadata": {
        "id": "Gz2jeUIPkSzg"
      }
    },
    {
      "cell_type": "code",
      "source": [],
      "metadata": {
        "id": "Qv3ZP8rqlmvG"
      },
      "execution_count": null,
      "outputs": []
    },
    {
      "cell_type": "markdown",
      "source": [
        "## Clean Data"
      ],
      "metadata": {
        "id": "g0MvObBbkd5m"
      }
    },
    {
      "cell_type": "code",
      "source": [],
      "metadata": {
        "id": "ZqiO72iZlnrc"
      },
      "execution_count": null,
      "outputs": []
    },
    {
      "cell_type": "markdown",
      "source": [
        "## Exploratory Data Analysis\n"
      ],
      "metadata": {
        "id": "BPZeg0bskjQA"
      }
    },
    {
      "cell_type": "code",
      "source": [],
      "metadata": {
        "id": "ZN8IuTZYlpZg"
      },
      "execution_count": null,
      "outputs": []
    },
    {
      "cell_type": "markdown",
      "source": [
        "## Feature Inspection"
      ],
      "metadata": {
        "id": "HDngom9qkoMq"
      }
    },
    {
      "cell_type": "code",
      "source": [],
      "metadata": {
        "id": "AGyhrsvGlr8H"
      },
      "execution_count": null,
      "outputs": []
    }
  ]
}